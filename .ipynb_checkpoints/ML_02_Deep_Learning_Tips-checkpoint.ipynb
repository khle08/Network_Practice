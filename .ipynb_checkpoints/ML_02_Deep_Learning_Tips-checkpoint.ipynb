{
 "cells": [
  {
   "cell_type": "markdown",
   "metadata": {},
   "source": [
    "# Brief 概述\n",
    "在第一部分我们了解到使用 Keras 建构神经网络的方法与过程就如同堆积木一般，把一个又一个的功能函数排列起来，最后完成一个整体的模型，步骤如上次内容提及：\n",
    "1. Define a set of function 定义一个神经网络理想中的长相\n",
    "2. Goodness of function 评判一个函数结果的好坏\n",
    "3. Pick the best function 告知一个寻找最优解的方法\n",
    "\n",
    "有了多维度的神经节点参与，加上多层次的神经节点链接，就逐渐的构成了深度学习的框架，做完上面步骤之后，我们就会得到一个训练好所有参数的神经网络，它可以被用来面对未知的数据开始工作了。\n",
    "\n",
    "# Before Success\n",
    "在检查训练过的神经网络是否后已经是一个最佳状态的时候，也有以下几个步骤：\n",
    "1. Good or bad in Training Data? 训练集中结果的好坏\n",
    "2. Good or bad in Testing Data? 测试集中结果的好坏\n",
    "3. Test the model under unknown environment. 在全新的环境中测试模型"
   ]
  },
  {
   "cell_type": "markdown",
   "metadata": {},
   "source": [
    "### Step No.1\n",
    "虽然说我们是用训练集在训练我们的模型，但是相比于「KNN」或是「决策树」这两者很容易就让训练集数据达到百分百的状态，深度学习框架不容易出现这样的现象，但是很多时候如果训练集的结果没有检查过，那么在测试集也就容易出现类似训练集出现的错误，而编写人员却无法察觉，朝向偏差的方向思考。\n",
    "\n",
    "p.s. 如果是 KNN 或是决策树框架下的模型，他们始终会在训练集得到绝对准确的结果，反而更加容易过拟合\n",
    "\n",
    "### Step No.2\n"
   ]
  }
 ],
 "metadata": {
  "kernelspec": {
   "display_name": "Python 3",
   "language": "python",
   "name": "python3"
  },
  "language_info": {
   "codemirror_mode": {
    "name": "ipython",
    "version": 3
   },
   "file_extension": ".py",
   "mimetype": "text/x-python",
   "name": "python",
   "nbconvert_exporter": "python",
   "pygments_lexer": "ipython3",
   "version": "3.6.3"
  }
 },
 "nbformat": 4,
 "nbformat_minor": 2
}
