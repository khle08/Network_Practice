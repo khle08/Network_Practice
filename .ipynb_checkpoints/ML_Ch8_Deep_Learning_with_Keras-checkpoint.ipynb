{
 "cells": [
  {
   "cell_type": "markdown",
   "metadata": {},
   "source": [
    "# Brief 概述\n",
    "当前市面上有非常多的模块包 （Tool-kit） 可以提供我们使用来建构一个深度学习的神经网络，各家的模块各有优势劣势，下面是对于两个模块的分析比较，分别是 Tensorflow 和 Keras。\n",
    "### Tensorflow （developped by Google）\n",
    "就老师自己的使用经验来说，对于一个新手而言并没有那么好用，原因在于它如同另一个模块包 theano 一样太开源并富有拓展性了，需要一段时间去适应和学习，站在初学的角度来看，它就是一个微分器，非常适合用来解决一次微分求极值与深度学习核心以外的问题，极值求出来之后我们就可以拿结果去做梯度下降的算法推估参数。\n",
    "### Keras （developped by Staffs from Google)\n",
    "反观这个模块不太一样，它可以让初学者在段时间内就熟悉使用，并建构一个属于自己的神经网络，而其内部机制说穿了其实就是 Tensorflow 和 theano 的二度打包界面，每每在呼叫这个包里面的函数时，其实就是在调用 Tensorflow 里面的功能了。但是即便如此，这个模块包也有足够的弹性空间可以让大部分的人去发挥创造性，建构出一个自己心目中的神经网络。如果需要更进阶使用这个模块，我们甚至可以自行修改该模块包后面的代码，完成深度定制的构思。\n",
    "\n",
    "据悉由于 Keras 的开发者也是出自 Google 公司，因此这个模块将成为 Tensorflow 的 API ，让其界面和背后功能模块有一个更为强健的链接。\n",
    "\n",
    "Keras means \"horn\" in Greek. Here is the [link](http://keras.io/) and related [example](https://github.com/fchollet/keras/tree/master/examples) about Keras."
   ]
  },
  {
   "cell_type": "code",
   "execution_count": null,
   "metadata": {},
   "outputs": [],
   "source": []
  }
 ],
 "metadata": {
  "kernelspec": {
   "display_name": "Python 3",
   "language": "python",
   "name": "python3"
  },
  "language_info": {
   "codemirror_mode": {
    "name": "ipython",
    "version": 3
   },
   "file_extension": ".py",
   "mimetype": "text/x-python",
   "name": "python",
   "nbconvert_exporter": "python",
   "pygments_lexer": "ipython3",
   "version": "3.6.3"
  }
 },
 "nbformat": 4,
 "nbformat_minor": 2
}
